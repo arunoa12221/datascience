{
 "cells": [
  {
   "cell_type": "code",
   "execution_count": 99,
   "id": "df91c7ad-5d67-44c4-b6bf-b217fe9eed7c",
   "metadata": {},
   "outputs": [],
   "source": [
    "import pandas as pd\n",
    "import numpy as np"
   ]
  },
  {
   "cell_type": "code",
   "execution_count": 100,
   "id": "d78017d6-1e3b-44cd-a733-dae01a974010",
   "metadata": {},
   "outputs": [],
   "source": [
    "cafe = pd.read_csv('dirty_cafe_sales (2).csv')"
   ]
  },
  {
   "cell_type": "code",
   "execution_count": 101,
   "id": "49526335-a616-4b0e-a155-66b3da76d63a",
   "metadata": {},
   "outputs": [
    {
     "data": {
      "text/html": [
       "<div>\n",
       "<style scoped>\n",
       "    .dataframe tbody tr th:only-of-type {\n",
       "        vertical-align: middle;\n",
       "    }\n",
       "\n",
       "    .dataframe tbody tr th {\n",
       "        vertical-align: top;\n",
       "    }\n",
       "\n",
       "    .dataframe thead th {\n",
       "        text-align: right;\n",
       "    }\n",
       "</style>\n",
       "<table border=\"1\" class=\"dataframe\">\n",
       "  <thead>\n",
       "    <tr style=\"text-align: right;\">\n",
       "      <th></th>\n",
       "      <th>Transaction ID</th>\n",
       "      <th>Item</th>\n",
       "      <th>Quantity</th>\n",
       "      <th>Price Per Unit</th>\n",
       "      <th>Total Spent</th>\n",
       "      <th>Payment Method</th>\n",
       "      <th>Location</th>\n",
       "      <th>Transaction Date</th>\n",
       "    </tr>\n",
       "  </thead>\n",
       "  <tbody>\n",
       "    <tr>\n",
       "      <th>0</th>\n",
       "      <td>TXN_1961373</td>\n",
       "      <td>Coffee</td>\n",
       "      <td>2</td>\n",
       "      <td>2.0</td>\n",
       "      <td>4.0</td>\n",
       "      <td>Credit Card</td>\n",
       "      <td>Takeaway</td>\n",
       "      <td>2023-09-08</td>\n",
       "    </tr>\n",
       "    <tr>\n",
       "      <th>1</th>\n",
       "      <td>TXN_4977031</td>\n",
       "      <td>Cake</td>\n",
       "      <td>4</td>\n",
       "      <td>3.0</td>\n",
       "      <td>12.0</td>\n",
       "      <td>Cash</td>\n",
       "      <td>In-store</td>\n",
       "      <td>2023-05-16</td>\n",
       "    </tr>\n",
       "    <tr>\n",
       "      <th>2</th>\n",
       "      <td>TXN_4271903</td>\n",
       "      <td>Cookie</td>\n",
       "      <td>4</td>\n",
       "      <td>1.0</td>\n",
       "      <td>ERROR</td>\n",
       "      <td>Credit Card</td>\n",
       "      <td>In-store</td>\n",
       "      <td>2023-07-19</td>\n",
       "    </tr>\n",
       "    <tr>\n",
       "      <th>3</th>\n",
       "      <td>TXN_7034554</td>\n",
       "      <td>Salad</td>\n",
       "      <td>2</td>\n",
       "      <td>5.0</td>\n",
       "      <td>10.0</td>\n",
       "      <td>UNKNOWN</td>\n",
       "      <td>UNKNOWN</td>\n",
       "      <td>2023-04-27</td>\n",
       "    </tr>\n",
       "    <tr>\n",
       "      <th>4</th>\n",
       "      <td>TXN_3160411</td>\n",
       "      <td>Coffee</td>\n",
       "      <td>2</td>\n",
       "      <td>2.0</td>\n",
       "      <td>4.0</td>\n",
       "      <td>Digital Wallet</td>\n",
       "      <td>In-store</td>\n",
       "      <td>2023-06-11</td>\n",
       "    </tr>\n",
       "  </tbody>\n",
       "</table>\n",
       "</div>"
      ],
      "text/plain": [
       "  Transaction ID    Item Quantity Price Per Unit Total Spent  Payment Method  \\\n",
       "0    TXN_1961373  Coffee        2            2.0         4.0     Credit Card   \n",
       "1    TXN_4977031    Cake        4            3.0        12.0            Cash   \n",
       "2    TXN_4271903  Cookie        4            1.0       ERROR     Credit Card   \n",
       "3    TXN_7034554   Salad        2            5.0        10.0         UNKNOWN   \n",
       "4    TXN_3160411  Coffee        2            2.0         4.0  Digital Wallet   \n",
       "\n",
       "   Location Transaction Date  \n",
       "0  Takeaway       2023-09-08  \n",
       "1  In-store       2023-05-16  \n",
       "2  In-store       2023-07-19  \n",
       "3   UNKNOWN       2023-04-27  \n",
       "4  In-store       2023-06-11  "
      ]
     },
     "execution_count": 101,
     "metadata": {},
     "output_type": "execute_result"
    }
   ],
   "source": [
    "cafe.head()"
   ]
  },
  {
   "cell_type": "code",
   "execution_count": 102,
   "id": "0fad264e-c00f-433f-999e-12fff35312da",
   "metadata": {},
   "outputs": [
    {
     "name": "stdout",
     "output_type": "stream",
     "text": [
      "<class 'pandas.core.frame.DataFrame'>\n",
      "RangeIndex: 10000 entries, 0 to 9999\n",
      "Data columns (total 8 columns):\n",
      " #   Column            Non-Null Count  Dtype \n",
      "---  ------            --------------  ----- \n",
      " 0   Transaction ID    10000 non-null  object\n",
      " 1   Item              9667 non-null   object\n",
      " 2   Quantity          9862 non-null   object\n",
      " 3   Price Per Unit    9821 non-null   object\n",
      " 4   Total Spent       9827 non-null   object\n",
      " 5   Payment Method    7421 non-null   object\n",
      " 6   Location          6735 non-null   object\n",
      " 7   Transaction Date  9841 non-null   object\n",
      "dtypes: object(8)\n",
      "memory usage: 625.1+ KB\n"
     ]
    }
   ],
   "source": [
    "cafe.info()"
   ]
  },
  {
   "cell_type": "code",
   "execution_count": 103,
   "id": "097a2e51-5d9b-422e-bd4d-89fb4f15aa9e",
   "metadata": {},
   "outputs": [
    {
     "data": {
      "text/plain": [
       "(10000, 8)"
      ]
     },
     "execution_count": 103,
     "metadata": {},
     "output_type": "execute_result"
    }
   ],
   "source": [
    "cafe.shape"
   ]
  },
  {
   "cell_type": "code",
   "execution_count": 104,
   "id": "046fa35f-30aa-40d1-b604-653c7b18f24c",
   "metadata": {},
   "outputs": [
    {
     "data": {
      "text/html": [
       "<div>\n",
       "<style scoped>\n",
       "    .dataframe tbody tr th:only-of-type {\n",
       "        vertical-align: middle;\n",
       "    }\n",
       "\n",
       "    .dataframe tbody tr th {\n",
       "        vertical-align: top;\n",
       "    }\n",
       "\n",
       "    .dataframe thead th {\n",
       "        text-align: right;\n",
       "    }\n",
       "</style>\n",
       "<table border=\"1\" class=\"dataframe\">\n",
       "  <thead>\n",
       "    <tr style=\"text-align: right;\">\n",
       "      <th></th>\n",
       "      <th>Transaction ID</th>\n",
       "      <th>Item</th>\n",
       "      <th>Quantity</th>\n",
       "      <th>Price Per Unit</th>\n",
       "      <th>Total Spent</th>\n",
       "      <th>Payment Method</th>\n",
       "      <th>Location</th>\n",
       "      <th>Transaction Date</th>\n",
       "    </tr>\n",
       "  </thead>\n",
       "  <tbody>\n",
       "    <tr>\n",
       "      <th>count</th>\n",
       "      <td>10000</td>\n",
       "      <td>9667</td>\n",
       "      <td>9862</td>\n",
       "      <td>9821</td>\n",
       "      <td>9827</td>\n",
       "      <td>7421</td>\n",
       "      <td>6735</td>\n",
       "      <td>9841</td>\n",
       "    </tr>\n",
       "    <tr>\n",
       "      <th>unique</th>\n",
       "      <td>10000</td>\n",
       "      <td>10</td>\n",
       "      <td>7</td>\n",
       "      <td>8</td>\n",
       "      <td>19</td>\n",
       "      <td>5</td>\n",
       "      <td>4</td>\n",
       "      <td>367</td>\n",
       "    </tr>\n",
       "    <tr>\n",
       "      <th>top</th>\n",
       "      <td>TXN_1961373</td>\n",
       "      <td>Juice</td>\n",
       "      <td>5</td>\n",
       "      <td>3.0</td>\n",
       "      <td>6.0</td>\n",
       "      <td>Digital Wallet</td>\n",
       "      <td>Takeaway</td>\n",
       "      <td>UNKNOWN</td>\n",
       "    </tr>\n",
       "    <tr>\n",
       "      <th>freq</th>\n",
       "      <td>1</td>\n",
       "      <td>1171</td>\n",
       "      <td>2013</td>\n",
       "      <td>2429</td>\n",
       "      <td>979</td>\n",
       "      <td>2291</td>\n",
       "      <td>3022</td>\n",
       "      <td>159</td>\n",
       "    </tr>\n",
       "  </tbody>\n",
       "</table>\n",
       "</div>"
      ],
      "text/plain": [
       "       Transaction ID   Item Quantity Price Per Unit Total Spent  \\\n",
       "count           10000   9667     9862           9821        9827   \n",
       "unique          10000     10        7              8          19   \n",
       "top       TXN_1961373  Juice        5            3.0         6.0   \n",
       "freq                1   1171     2013           2429         979   \n",
       "\n",
       "        Payment Method  Location Transaction Date  \n",
       "count             7421      6735             9841  \n",
       "unique               5         4              367  \n",
       "top     Digital Wallet  Takeaway          UNKNOWN  \n",
       "freq              2291      3022              159  "
      ]
     },
     "execution_count": 104,
     "metadata": {},
     "output_type": "execute_result"
    }
   ],
   "source": [
    "cafe.describe()"
   ]
  },
  {
   "cell_type": "code",
   "execution_count": 105,
   "id": "02de9193-68c5-4c6d-b868-cf1b0b24bec5",
   "metadata": {},
   "outputs": [
    {
     "data": {
      "text/plain": [
       "Transaction ID      object\n",
       "Item                object\n",
       "Quantity            object\n",
       "Price Per Unit      object\n",
       "Total Spent         object\n",
       "Payment Method      object\n",
       "Location            object\n",
       "Transaction Date    object\n",
       "dtype: object"
      ]
     },
     "execution_count": 105,
     "metadata": {},
     "output_type": "execute_result"
    }
   ],
   "source": [
    "cafe.dtypes"
   ]
  },
  {
   "cell_type": "code",
   "execution_count": 106,
   "id": "f83676d1-ed35-4d5c-be15-2a66070294cd",
   "metadata": {},
   "outputs": [
    {
     "data": {
      "text/plain": [
       "array(['2', '4', '5', '3', '1', 'ERROR', 'UNKNOWN', nan], dtype=object)"
      ]
     },
     "execution_count": 106,
     "metadata": {},
     "output_type": "execute_result"
    }
   ],
   "source": [
    "cafe['Quantity'].unique()"
   ]
  },
  {
   "cell_type": "code",
   "execution_count": 107,
   "id": "61090d51-5026-470d-b800-7e424d6b7cb2",
   "metadata": {},
   "outputs": [
    {
     "data": {
      "text/plain": [
       "array(['2.0', '3.0', '1.0', '5.0', '4.0', '1.5', nan, 'ERROR', 'UNKNOWN'],\n",
       "      dtype=object)"
      ]
     },
     "execution_count": 107,
     "metadata": {},
     "output_type": "execute_result"
    }
   ],
   "source": [
    "cafe['Price Per Unit'].unique()"
   ]
  },
  {
   "cell_type": "code",
   "execution_count": 108,
   "id": "c10d3fe3-44c3-4cab-955a-7346e4c0973d",
   "metadata": {},
   "outputs": [
    {
     "data": {
      "text/plain": [
       "array(['4.0', '12.0', 'ERROR', '10.0', '20.0', '9.0', '16.0', '15.0',\n",
       "       '25.0', '8.0', '5.0', '3.0', '6.0', nan, 'UNKNOWN', '2.0', '1.0',\n",
       "       '7.5', '4.5', '1.5'], dtype=object)"
      ]
     },
     "execution_count": 108,
     "metadata": {},
     "output_type": "execute_result"
    }
   ],
   "source": [
    "cafe['Total Spent'].unique()"
   ]
  },
  {
   "cell_type": "code",
   "execution_count": 109,
   "id": "89be09cc-a11d-4102-808f-d12f0a3fd950",
   "metadata": {},
   "outputs": [],
   "source": [
    "cafe['Quantity'] = pd.to_numeric(cafe['Quantity'],errors='coerce')"
   ]
  },
  {
   "cell_type": "code",
   "execution_count": 110,
   "id": "a9cdac26-b891-434f-b12e-0bda2e7b1863",
   "metadata": {},
   "outputs": [],
   "source": [
    "cafe['Price Per Unit'] = pd.to_numeric(cafe['Price Per Unit'],errors='coerce')"
   ]
  },
  {
   "cell_type": "code",
   "execution_count": 111,
   "id": "838f4cc3-b415-43f8-9129-4ab4e661a326",
   "metadata": {},
   "outputs": [],
   "source": [
    "cafe['Total Spent'] = pd.to_numeric(cafe['Total Spent'],errors='coerce')"
   ]
  },
  {
   "cell_type": "code",
   "execution_count": 112,
   "id": "0d35831c-8d25-4009-a0bc-044164e7b85b",
   "metadata": {},
   "outputs": [],
   "source": [
    "datatype_columns =['Quantity','Price Per Unit','Total Spent']"
   ]
  },
  {
   "cell_type": "code",
   "execution_count": 113,
   "id": "d432ac98-863f-4738-a3a5-c563c66b1c31",
   "metadata": {},
   "outputs": [],
   "source": [
    "for i in datatype_columns:\n",
    "    cafe[i] = pd.to_numeric(cafe[i],errors='coerce')"
   ]
  },
  {
   "cell_type": "code",
   "execution_count": 114,
   "id": "a94f582f-404f-4f16-923b-ff93f7789f77",
   "metadata": {},
   "outputs": [
    {
     "data": {
      "text/plain": [
       "Transaction ID       object\n",
       "Item                 object\n",
       "Quantity            float64\n",
       "Price Per Unit      float64\n",
       "Total Spent         float64\n",
       "Payment Method       object\n",
       "Location             object\n",
       "Transaction Date     object\n",
       "dtype: object"
      ]
     },
     "execution_count": 114,
     "metadata": {},
     "output_type": "execute_result"
    }
   ],
   "source": [
    "cafe.dtypes"
   ]
  },
  {
   "cell_type": "code",
   "execution_count": 115,
   "id": "d9b5adcc-eedb-426c-bb96-d7f682afb10e",
   "metadata": {},
   "outputs": [],
   "source": [
    "cafe['Transaction Date'] = pd.to_datetime(cafe['Transaction Date'],errors='coerce')"
   ]
  },
  {
   "cell_type": "code",
   "execution_count": 116,
   "id": "3f5bc913-4df2-420d-960b-9354292d4961",
   "metadata": {},
   "outputs": [
    {
     "data": {
      "text/plain": [
       "Transaction ID              object\n",
       "Item                        object\n",
       "Quantity                   float64\n",
       "Price Per Unit             float64\n",
       "Total Spent                float64\n",
       "Payment Method              object\n",
       "Location                    object\n",
       "Transaction Date    datetime64[ns]\n",
       "dtype: object"
      ]
     },
     "execution_count": 116,
     "metadata": {},
     "output_type": "execute_result"
    }
   ],
   "source": [
    "cafe.dtypes"
   ]
  },
  {
   "cell_type": "code",
   "execution_count": 117,
   "id": "4db2ad96-1ad0-444c-abeb-d00924860650",
   "metadata": {},
   "outputs": [
    {
     "data": {
      "text/plain": [
       "Index(['Transaction ID', 'Item', 'Quantity', 'Price Per Unit', 'Total Spent',\n",
       "       'Payment Method', 'Location', 'Transaction Date'],\n",
       "      dtype='object')"
      ]
     },
     "execution_count": 117,
     "metadata": {},
     "output_type": "execute_result"
    }
   ],
   "source": [
    "cafe.columns"
   ]
  },
  {
   "cell_type": "code",
   "execution_count": 118,
   "id": "b5dce296-d52f-4ed5-9927-88e195236327",
   "metadata": {},
   "outputs": [
    {
     "data": {
      "text/plain": [
       "array(['Coffee', 'Cake', 'Cookie', 'Salad', 'Smoothie', 'UNKNOWN',\n",
       "       'Sandwich', nan, 'ERROR', 'Juice', 'Tea'], dtype=object)"
      ]
     },
     "execution_count": 118,
     "metadata": {},
     "output_type": "execute_result"
    }
   ],
   "source": [
    "cafe['Item'].unique()"
   ]
  },
  {
   "cell_type": "code",
   "execution_count": 119,
   "id": "3a1eaa27-fb6d-4e97-8bbc-040f91d451fe",
   "metadata": {},
   "outputs": [
    {
     "name": "stderr",
     "output_type": "stream",
     "text": [
      "C:\\Users\\Admin\\AppData\\Local\\Temp\\ipykernel_1164\\2830791701.py:1: FutureWarning: A value is trying to be set on a copy of a DataFrame or Series through chained assignment using an inplace method.\n",
      "The behavior will change in pandas 3.0. This inplace method will never work because the intermediate object on which we are setting values always behaves as a copy.\n",
      "\n",
      "For example, when doing 'df[col].method(value, inplace=True)', try using 'df.method({col: value}, inplace=True)' or df[col] = df[col].method(value) instead, to perform the operation inplace on the original object.\n",
      "\n",
      "\n",
      "  cafe['Item'].replace({'UNKNOWN':'','ERROR':'','nan':''},inplace=True)\n"
     ]
    }
   ],
   "source": [
    "cafe['Item'].replace({'UNKNOWN':'','ERROR':'','nan':''},inplace=True)"
   ]
  },
  {
   "cell_type": "code",
   "execution_count": 120,
   "id": "27530656-5bd6-4780-96df-2d76269a2b36",
   "metadata": {},
   "outputs": [
    {
     "data": {
      "text/plain": [
       "array([ 2.,  4.,  5.,  3.,  1., nan])"
      ]
     },
     "execution_count": 120,
     "metadata": {},
     "output_type": "execute_result"
    }
   ],
   "source": [
    "cafe['Quantity'].unique()"
   ]
  },
  {
   "cell_type": "code",
   "execution_count": 121,
   "id": "adfa820b-7c1e-4558-9b2b-57bb87798a42",
   "metadata": {},
   "outputs": [
    {
     "data": {
      "text/plain": [
       "array([2. , 3. , 1. , 5. , 4. , 1.5, nan])"
      ]
     },
     "execution_count": 121,
     "metadata": {},
     "output_type": "execute_result"
    }
   ],
   "source": [
    "cafe['Price Per Unit'].unique()"
   ]
  },
  {
   "cell_type": "code",
   "execution_count": 122,
   "id": "40e75f5a-2daf-4233-aae5-b7f4ed8291d2",
   "metadata": {},
   "outputs": [
    {
     "data": {
      "text/plain": [
       "array([ 4. , 12. ,  nan, 10. , 20. ,  9. , 16. , 15. , 25. ,  8. ,  5. ,\n",
       "        3. ,  6. ,  2. ,  1. ,  7.5,  4.5,  1.5])"
      ]
     },
     "execution_count": 122,
     "metadata": {},
     "output_type": "execute_result"
    }
   ],
   "source": [
    "cafe['Total Spent'].unique()"
   ]
  },
  {
   "cell_type": "code",
   "execution_count": 123,
   "id": "a0beacf9-23af-4706-b2db-ad14923fc498",
   "metadata": {},
   "outputs": [
    {
     "data": {
      "text/plain": [
       "array(['Credit Card', 'Cash', 'UNKNOWN', 'Digital Wallet', 'ERROR', nan],\n",
       "      dtype=object)"
      ]
     },
     "execution_count": 123,
     "metadata": {},
     "output_type": "execute_result"
    }
   ],
   "source": [
    "cafe['Payment Method'].unique()"
   ]
  },
  {
   "cell_type": "code",
   "execution_count": 124,
   "id": "136aee40-4349-4053-96d4-ce355e342a72",
   "metadata": {},
   "outputs": [
    {
     "name": "stderr",
     "output_type": "stream",
     "text": [
      "C:\\Users\\Admin\\AppData\\Local\\Temp\\ipykernel_1164\\809661535.py:1: FutureWarning: A value is trying to be set on a copy of a DataFrame or Series through chained assignment using an inplace method.\n",
      "The behavior will change in pandas 3.0. This inplace method will never work because the intermediate object on which we are setting values always behaves as a copy.\n",
      "\n",
      "For example, when doing 'df[col].method(value, inplace=True)', try using 'df.method({col: value}, inplace=True)' or df[col] = df[col].method(value) instead, to perform the operation inplace on the original object.\n",
      "\n",
      "\n",
      "  cafe['Payment Method'].replace({'UNKNOWN':np.nan,'ERROR':np.nan,},inplace=True)\n"
     ]
    }
   ],
   "source": [
    "cafe['Payment Method'].replace({'UNKNOWN':np.nan,'ERROR':np.nan,},inplace=True)"
   ]
  },
  {
   "cell_type": "code",
   "execution_count": 125,
   "id": "8b7faf46-056f-4dd7-8407-243db02f9e4d",
   "metadata": {},
   "outputs": [
    {
     "data": {
      "text/plain": [
       "array(['Credit Card', 'Cash', nan, 'Digital Wallet'], dtype=object)"
      ]
     },
     "execution_count": 125,
     "metadata": {},
     "output_type": "execute_result"
    }
   ],
   "source": [
    "cafe['Payment Method'].unique()"
   ]
  },
  {
   "cell_type": "code",
   "execution_count": 126,
   "id": "c24baea9-5083-4d26-b85b-900682717fc0",
   "metadata": {},
   "outputs": [
    {
     "data": {
      "text/plain": [
       "array(['Takeaway', 'In-store', 'UNKNOWN', nan, 'ERROR'], dtype=object)"
      ]
     },
     "execution_count": 126,
     "metadata": {},
     "output_type": "execute_result"
    }
   ],
   "source": [
    "cafe['Location'].unique()"
   ]
  },
  {
   "cell_type": "code",
   "execution_count": 127,
   "id": "026d1071-5905-4e6d-a73c-768aeca007c4",
   "metadata": {},
   "outputs": [
    {
     "name": "stderr",
     "output_type": "stream",
     "text": [
      "C:\\Users\\Admin\\AppData\\Local\\Temp\\ipykernel_1164\\2896724108.py:1: FutureWarning: A value is trying to be set on a copy of a DataFrame or Series through chained assignment using an inplace method.\n",
      "The behavior will change in pandas 3.0. This inplace method will never work because the intermediate object on which we are setting values always behaves as a copy.\n",
      "\n",
      "For example, when doing 'df[col].method(value, inplace=True)', try using 'df.method({col: value}, inplace=True)' or df[col] = df[col].method(value) instead, to perform the operation inplace on the original object.\n",
      "\n",
      "\n",
      "  cafe['Location'].replace({'UNKNOWN':np.nan,'ERROR':np.nan},inplace=True)\n"
     ]
    }
   ],
   "source": [
    "cafe['Location'].replace({'UNKNOWN':np.nan,'ERROR':np.nan},inplace=True)"
   ]
  },
  {
   "cell_type": "code",
   "execution_count": 128,
   "id": "e9460051-1508-4aca-83d8-aa280723d601",
   "metadata": {},
   "outputs": [
    {
     "data": {
      "text/plain": [
       "array(['Takeaway', 'In-store', nan], dtype=object)"
      ]
     },
     "execution_count": 128,
     "metadata": {},
     "output_type": "execute_result"
    }
   ],
   "source": [
    "cafe['Location'].unique()"
   ]
  },
  {
   "cell_type": "code",
   "execution_count": 129,
   "id": "37c066f0-4ac9-4645-b2c5-276af25f143e",
   "metadata": {
    "scrolled": true
   },
   "outputs": [
    {
     "data": {
      "text/plain": [
       "<DatetimeArray>\n",
       "['2023-09-08 00:00:00', '2023-05-16 00:00:00', '2023-07-19 00:00:00',\n",
       " '2023-04-27 00:00:00', '2023-06-11 00:00:00', '2023-03-31 00:00:00',\n",
       " '2023-10-06 00:00:00', '2023-10-28 00:00:00', '2023-07-28 00:00:00',\n",
       " '2023-12-31 00:00:00',\n",
       " ...\n",
       " '2023-08-01 00:00:00', '2023-01-20 00:00:00', '2023-11-11 00:00:00',\n",
       " '2023-02-13 00:00:00', '2023-07-30 00:00:00', '2023-02-17 00:00:00',\n",
       " '2023-05-20 00:00:00', '2023-11-05 00:00:00', '2023-03-27 00:00:00',\n",
       " '2023-07-03 00:00:00']\n",
       "Length: 366, dtype: datetime64[ns]"
      ]
     },
     "execution_count": 129,
     "metadata": {},
     "output_type": "execute_result"
    }
   ],
   "source": [
    "cafe['Transaction Date'].unique()"
   ]
  },
  {
   "cell_type": "code",
   "execution_count": 130,
   "id": "1196141d-6c35-46b7-b18d-1f1a6e893a74",
   "metadata": {},
   "outputs": [],
   "source": [
    "list_temp = cafe['Transaction Date'].unique()"
   ]
  },
  {
   "cell_type": "code",
   "execution_count": 131,
   "id": "a8bb3ae8-9ecf-40e4-943e-179041f6e6bf",
   "metadata": {},
   "outputs": [
    {
     "data": {
      "text/plain": [
       "False"
      ]
     },
     "execution_count": 131,
     "metadata": {},
     "output_type": "execute_result"
    }
   ],
   "source": [
    "'ERROR' in list_temp "
   ]
  },
  {
   "cell_type": "code",
   "execution_count": 132,
   "id": "e034bbab-ac76-4f72-805f-7d9d245fb2c1",
   "metadata": {
    "scrolled": true
   },
   "outputs": [
    {
     "data": {
      "text/plain": [
       "Transaction ID         0\n",
       "Item                 333\n",
       "Quantity             479\n",
       "Price Per Unit       533\n",
       "Total Spent          502\n",
       "Payment Method      3178\n",
       "Location            3961\n",
       "Transaction Date     460\n",
       "dtype: int64"
      ]
     },
     "execution_count": 132,
     "metadata": {},
     "output_type": "execute_result"
    }
   ],
   "source": [
    "cafe.isnull().sum()"
   ]
  },
  {
   "cell_type": "code",
   "execution_count": 133,
   "id": "1d6e32e1-8375-4762-a62b-5250e49605ae",
   "metadata": {},
   "outputs": [],
   "source": [
    "cafe.dropna(subset=['Total Spent'],inplace=True)"
   ]
  },
  {
   "cell_type": "code",
   "execution_count": 134,
   "id": "8f419122-60c1-4cce-952c-136c02e5a7af",
   "metadata": {},
   "outputs": [
    {
     "data": {
      "text/plain": [
       "Transaction ID         0\n",
       "Item                 322\n",
       "Quantity             459\n",
       "Price Per Unit       513\n",
       "Total Spent            0\n",
       "Payment Method      3008\n",
       "Location            3757\n",
       "Transaction Date     434\n",
       "dtype: int64"
      ]
     },
     "execution_count": 134,
     "metadata": {},
     "output_type": "execute_result"
    }
   ],
   "source": [
    "cafe.isnull().sum()"
   ]
  },
  {
   "cell_type": "code",
   "execution_count": 135,
   "id": "32590697-efc8-460d-8d89-5aabb9d5e9a3",
   "metadata": {},
   "outputs": [],
   "source": [
    "cafe.drop(columns=['Payment Method'],inplace=True)"
   ]
  },
  {
   "cell_type": "code",
   "execution_count": 136,
   "id": "b76a302b-c029-477e-b7be-dd0ede197031",
   "metadata": {
    "scrolled": true
   },
   "outputs": [
    {
     "data": {
      "text/plain": [
       "Transaction ID         0\n",
       "Item                 322\n",
       "Quantity             459\n",
       "Price Per Unit       513\n",
       "Total Spent            0\n",
       "Location            3757\n",
       "Transaction Date     434\n",
       "dtype: int64"
      ]
     },
     "execution_count": 136,
     "metadata": {},
     "output_type": "execute_result"
    }
   ],
   "source": [
    "cafe.isnull().sum()"
   ]
  },
  {
   "cell_type": "code",
   "execution_count": 137,
   "id": "d9d88951-1bf7-454a-ba48-0f4e2a126e14",
   "metadata": {},
   "outputs": [
    {
     "data": {
      "text/plain": [
       "(9498, 7)"
      ]
     },
     "execution_count": 137,
     "metadata": {},
     "output_type": "execute_result"
    }
   ],
   "source": [
    "cafe.shape"
   ]
  },
  {
   "cell_type": "code",
   "execution_count": 138,
   "id": "fddc82bc-f416-4d53-a9de-66eeb04dd729",
   "metadata": {},
   "outputs": [],
   "source": [
    "cafe.dropna(subset=['Transaction Date'],inplace=True)"
   ]
  },
  {
   "cell_type": "code",
   "execution_count": 139,
   "id": "ca4620a5-b2ca-4143-ba69-b632d50661f6",
   "metadata": {},
   "outputs": [
    {
     "data": {
      "text/plain": [
       "Transaction ID         0\n",
       "Item                 304\n",
       "Quantity             434\n",
       "Price Per Unit       487\n",
       "Total Spent            0\n",
       "Location            3586\n",
       "Transaction Date       0\n",
       "dtype: int64"
      ]
     },
     "execution_count": 139,
     "metadata": {},
     "output_type": "execute_result"
    }
   ],
   "source": [
    "cafe.isnull().sum()"
   ]
  },
  {
   "cell_type": "code",
   "execution_count": 140,
   "id": "f7368653-2ac6-4ea5-8519-a8fba2eb2356",
   "metadata": {},
   "outputs": [
    {
     "data": {
      "text/plain": [
       "0    Coffee\n",
       "Name: Item, dtype: object"
      ]
     },
     "execution_count": 140,
     "metadata": {},
     "output_type": "execute_result"
    }
   ],
   "source": [
    "cafe['Item'].mode()"
   ]
  },
  {
   "cell_type": "code",
   "execution_count": 141,
   "id": "a95d80bb-7f6b-4e3c-b0eb-a58fa1952022",
   "metadata": {},
   "outputs": [],
   "source": [
    "cafe['Item'] = cafe['Item'].fillna(cafe['Item'].mode()[0])"
   ]
  },
  {
   "cell_type": "code",
   "execution_count": 142,
   "id": "bfedcc9f-388e-4930-add6-4c13443ad3c4",
   "metadata": {},
   "outputs": [
    {
     "data": {
      "text/plain": [
       "Transaction ID         0\n",
       "Item                   0\n",
       "Quantity             434\n",
       "Price Per Unit       487\n",
       "Total Spent            0\n",
       "Location            3586\n",
       "Transaction Date       0\n",
       "dtype: int64"
      ]
     },
     "execution_count": 142,
     "metadata": {},
     "output_type": "execute_result"
    }
   ],
   "source": [
    "cafe.isnull().sum()"
   ]
  },
  {
   "cell_type": "code",
   "execution_count": 143,
   "id": "0e875af5-a9e4-4b16-ade2-03006f2b68cf",
   "metadata": {},
   "outputs": [],
   "source": [
    "cafe['Quantity'] = cafe['Quantity'].fillna(cafe['Quantity'].median())"
   ]
  },
  {
   "cell_type": "code",
   "execution_count": 144,
   "id": "6faddbf5-80ab-487d-bcbd-949b903b890b",
   "metadata": {},
   "outputs": [
    {
     "data": {
      "text/plain": [
       "Transaction ID         0\n",
       "Item                   0\n",
       "Quantity               0\n",
       "Price Per Unit       487\n",
       "Total Spent            0\n",
       "Location            3586\n",
       "Transaction Date       0\n",
       "dtype: int64"
      ]
     },
     "execution_count": 144,
     "metadata": {},
     "output_type": "execute_result"
    }
   ],
   "source": [
    "cafe.isnull().sum()"
   ]
  },
  {
   "cell_type": "code",
   "execution_count": 145,
   "id": "a7891a36-7162-4d39-9387-edfe78087019",
   "metadata": {},
   "outputs": [],
   "source": [
    "cafe['Price Per Unit'] = cafe['Price Per Unit'].fillna(cafe['Price Per Unit'].mean())"
   ]
  },
  {
   "cell_type": "code",
   "execution_count": 146,
   "id": "67066664-a66b-4fa3-a41f-89633cc70b36",
   "metadata": {},
   "outputs": [
    {
     "data": {
      "text/plain": [
       "Transaction ID         0\n",
       "Item                   0\n",
       "Quantity               0\n",
       "Price Per Unit         0\n",
       "Total Spent            0\n",
       "Location            3586\n",
       "Transaction Date       0\n",
       "dtype: int64"
      ]
     },
     "execution_count": 146,
     "metadata": {},
     "output_type": "execute_result"
    }
   ],
   "source": [
    "cafe.isnull().sum()"
   ]
  },
  {
   "cell_type": "code",
   "execution_count": 147,
   "id": "99cf0c95-675c-496c-8208-d0ce9a2947b9",
   "metadata": {},
   "outputs": [],
   "source": [
    "cafe['Location'] = cafe['Location'].fillna('not specified')"
   ]
  },
  {
   "cell_type": "code",
   "execution_count": 148,
   "id": "8e17a666-3e9e-40fb-ad44-cd6365b0c29c",
   "metadata": {},
   "outputs": [
    {
     "data": {
      "text/plain": [
       "Transaction ID      0\n",
       "Item                0\n",
       "Quantity            0\n",
       "Price Per Unit      0\n",
       "Total Spent         0\n",
       "Location            0\n",
       "Transaction Date    0\n",
       "dtype: int64"
      ]
     },
     "execution_count": 148,
     "metadata": {},
     "output_type": "execute_result"
    }
   ],
   "source": [
    "cafe.isnull().sum()"
   ]
  },
  {
   "cell_type": "code",
   "execution_count": 149,
   "id": "95cd06dc-d948-47ee-868e-a017fe120a52",
   "metadata": {},
   "outputs": [
    {
     "data": {
      "text/html": [
       "<div>\n",
       "<style scoped>\n",
       "    .dataframe tbody tr th:only-of-type {\n",
       "        vertical-align: middle;\n",
       "    }\n",
       "\n",
       "    .dataframe tbody tr th {\n",
       "        vertical-align: top;\n",
       "    }\n",
       "\n",
       "    .dataframe thead th {\n",
       "        text-align: right;\n",
       "    }\n",
       "</style>\n",
       "<table border=\"1\" class=\"dataframe\">\n",
       "  <thead>\n",
       "    <tr style=\"text-align: right;\">\n",
       "      <th></th>\n",
       "      <th>Transaction ID</th>\n",
       "      <th>Item</th>\n",
       "      <th>Quantity</th>\n",
       "      <th>Price Per Unit</th>\n",
       "      <th>Total Spent</th>\n",
       "      <th>Location</th>\n",
       "      <th>Transaction Date</th>\n",
       "    </tr>\n",
       "  </thead>\n",
       "  <tbody>\n",
       "    <tr>\n",
       "      <th>0</th>\n",
       "      <td>TXN_1961373</td>\n",
       "      <td>Coffee</td>\n",
       "      <td>2.0</td>\n",
       "      <td>2.0</td>\n",
       "      <td>4.0</td>\n",
       "      <td>Takeaway</td>\n",
       "      <td>2023-09-08</td>\n",
       "    </tr>\n",
       "    <tr>\n",
       "      <th>1</th>\n",
       "      <td>TXN_4977031</td>\n",
       "      <td>Cake</td>\n",
       "      <td>4.0</td>\n",
       "      <td>3.0</td>\n",
       "      <td>12.0</td>\n",
       "      <td>In-store</td>\n",
       "      <td>2023-05-16</td>\n",
       "    </tr>\n",
       "    <tr>\n",
       "      <th>3</th>\n",
       "      <td>TXN_7034554</td>\n",
       "      <td>Salad</td>\n",
       "      <td>2.0</td>\n",
       "      <td>5.0</td>\n",
       "      <td>10.0</td>\n",
       "      <td>not specified</td>\n",
       "      <td>2023-04-27</td>\n",
       "    </tr>\n",
       "    <tr>\n",
       "      <th>4</th>\n",
       "      <td>TXN_3160411</td>\n",
       "      <td>Coffee</td>\n",
       "      <td>2.0</td>\n",
       "      <td>2.0</td>\n",
       "      <td>4.0</td>\n",
       "      <td>In-store</td>\n",
       "      <td>2023-06-11</td>\n",
       "    </tr>\n",
       "    <tr>\n",
       "      <th>5</th>\n",
       "      <td>TXN_2602893</td>\n",
       "      <td>Smoothie</td>\n",
       "      <td>5.0</td>\n",
       "      <td>4.0</td>\n",
       "      <td>20.0</td>\n",
       "      <td>not specified</td>\n",
       "      <td>2023-03-31</td>\n",
       "    </tr>\n",
       "  </tbody>\n",
       "</table>\n",
       "</div>"
      ],
      "text/plain": [
       "  Transaction ID      Item  Quantity  Price Per Unit  Total Spent  \\\n",
       "0    TXN_1961373    Coffee       2.0             2.0          4.0   \n",
       "1    TXN_4977031      Cake       4.0             3.0         12.0   \n",
       "3    TXN_7034554     Salad       2.0             5.0         10.0   \n",
       "4    TXN_3160411    Coffee       2.0             2.0          4.0   \n",
       "5    TXN_2602893  Smoothie       5.0             4.0         20.0   \n",
       "\n",
       "        Location Transaction Date  \n",
       "0       Takeaway       2023-09-08  \n",
       "1       In-store       2023-05-16  \n",
       "3  not specified       2023-04-27  \n",
       "4       In-store       2023-06-11  \n",
       "5  not specified       2023-03-31  "
      ]
     },
     "execution_count": 149,
     "metadata": {},
     "output_type": "execute_result"
    }
   ],
   "source": [
    "cafe.head()"
   ]
  },
  {
   "cell_type": "code",
   "execution_count": 150,
   "id": "da09a627-af34-4b23-bada-14dd1d574c67",
   "metadata": {},
   "outputs": [],
   "source": [
    "cafe[['del','Transaction ID']]=cafe['Transaction ID'].str.split('_',expand = True)"
   ]
  },
  {
   "cell_type": "code",
   "execution_count": 151,
   "id": "9f1b0a37-55c7-4981-9175-c3a8851b7ecd",
   "metadata": {},
   "outputs": [
    {
     "data": {
      "text/html": [
       "<div>\n",
       "<style scoped>\n",
       "    .dataframe tbody tr th:only-of-type {\n",
       "        vertical-align: middle;\n",
       "    }\n",
       "\n",
       "    .dataframe tbody tr th {\n",
       "        vertical-align: top;\n",
       "    }\n",
       "\n",
       "    .dataframe thead th {\n",
       "        text-align: right;\n",
       "    }\n",
       "</style>\n",
       "<table border=\"1\" class=\"dataframe\">\n",
       "  <thead>\n",
       "    <tr style=\"text-align: right;\">\n",
       "      <th></th>\n",
       "      <th>Transaction ID</th>\n",
       "      <th>Item</th>\n",
       "      <th>Quantity</th>\n",
       "      <th>Price Per Unit</th>\n",
       "      <th>Total Spent</th>\n",
       "      <th>Location</th>\n",
       "      <th>Transaction Date</th>\n",
       "      <th>del</th>\n",
       "    </tr>\n",
       "  </thead>\n",
       "  <tbody>\n",
       "    <tr>\n",
       "      <th>0</th>\n",
       "      <td>1961373</td>\n",
       "      <td>Coffee</td>\n",
       "      <td>2.0</td>\n",
       "      <td>2.000000</td>\n",
       "      <td>4.0</td>\n",
       "      <td>Takeaway</td>\n",
       "      <td>2023-09-08</td>\n",
       "      <td>TXN</td>\n",
       "    </tr>\n",
       "    <tr>\n",
       "      <th>1</th>\n",
       "      <td>4977031</td>\n",
       "      <td>Cake</td>\n",
       "      <td>4.0</td>\n",
       "      <td>3.000000</td>\n",
       "      <td>12.0</td>\n",
       "      <td>In-store</td>\n",
       "      <td>2023-05-16</td>\n",
       "      <td>TXN</td>\n",
       "    </tr>\n",
       "    <tr>\n",
       "      <th>3</th>\n",
       "      <td>7034554</td>\n",
       "      <td>Salad</td>\n",
       "      <td>2.0</td>\n",
       "      <td>5.000000</td>\n",
       "      <td>10.0</td>\n",
       "      <td>not specified</td>\n",
       "      <td>2023-04-27</td>\n",
       "      <td>TXN</td>\n",
       "    </tr>\n",
       "    <tr>\n",
       "      <th>4</th>\n",
       "      <td>3160411</td>\n",
       "      <td>Coffee</td>\n",
       "      <td>2.0</td>\n",
       "      <td>2.000000</td>\n",
       "      <td>4.0</td>\n",
       "      <td>In-store</td>\n",
       "      <td>2023-06-11</td>\n",
       "      <td>TXN</td>\n",
       "    </tr>\n",
       "    <tr>\n",
       "      <th>5</th>\n",
       "      <td>2602893</td>\n",
       "      <td>Smoothie</td>\n",
       "      <td>5.0</td>\n",
       "      <td>4.000000</td>\n",
       "      <td>20.0</td>\n",
       "      <td>not specified</td>\n",
       "      <td>2023-03-31</td>\n",
       "      <td>TXN</td>\n",
       "    </tr>\n",
       "    <tr>\n",
       "      <th>...</th>\n",
       "      <td>...</td>\n",
       "      <td>...</td>\n",
       "      <td>...</td>\n",
       "      <td>...</td>\n",
       "      <td>...</td>\n",
       "      <td>...</td>\n",
       "      <td>...</td>\n",
       "      <td>...</td>\n",
       "    </tr>\n",
       "    <tr>\n",
       "      <th>9995</th>\n",
       "      <td>7672686</td>\n",
       "      <td>Coffee</td>\n",
       "      <td>2.0</td>\n",
       "      <td>2.000000</td>\n",
       "      <td>4.0</td>\n",
       "      <td>not specified</td>\n",
       "      <td>2023-08-30</td>\n",
       "      <td>TXN</td>\n",
       "    </tr>\n",
       "    <tr>\n",
       "      <th>9996</th>\n",
       "      <td>9659401</td>\n",
       "      <td>Coffee</td>\n",
       "      <td>3.0</td>\n",
       "      <td>2.947184</td>\n",
       "      <td>3.0</td>\n",
       "      <td>not specified</td>\n",
       "      <td>2023-06-02</td>\n",
       "      <td>TXN</td>\n",
       "    </tr>\n",
       "    <tr>\n",
       "      <th>9997</th>\n",
       "      <td>5255387</td>\n",
       "      <td>Coffee</td>\n",
       "      <td>4.0</td>\n",
       "      <td>2.000000</td>\n",
       "      <td>8.0</td>\n",
       "      <td>not specified</td>\n",
       "      <td>2023-03-02</td>\n",
       "      <td>TXN</td>\n",
       "    </tr>\n",
       "    <tr>\n",
       "      <th>9998</th>\n",
       "      <td>7695629</td>\n",
       "      <td>Cookie</td>\n",
       "      <td>3.0</td>\n",
       "      <td>2.947184</td>\n",
       "      <td>3.0</td>\n",
       "      <td>not specified</td>\n",
       "      <td>2023-12-02</td>\n",
       "      <td>TXN</td>\n",
       "    </tr>\n",
       "    <tr>\n",
       "      <th>9999</th>\n",
       "      <td>6170729</td>\n",
       "      <td>Sandwich</td>\n",
       "      <td>3.0</td>\n",
       "      <td>4.000000</td>\n",
       "      <td>12.0</td>\n",
       "      <td>In-store</td>\n",
       "      <td>2023-11-07</td>\n",
       "      <td>TXN</td>\n",
       "    </tr>\n",
       "  </tbody>\n",
       "</table>\n",
       "<p>9064 rows × 8 columns</p>\n",
       "</div>"
      ],
      "text/plain": [
       "     Transaction ID      Item  Quantity  Price Per Unit  Total Spent  \\\n",
       "0           1961373    Coffee       2.0        2.000000          4.0   \n",
       "1           4977031      Cake       4.0        3.000000         12.0   \n",
       "3           7034554     Salad       2.0        5.000000         10.0   \n",
       "4           3160411    Coffee       2.0        2.000000          4.0   \n",
       "5           2602893  Smoothie       5.0        4.000000         20.0   \n",
       "...             ...       ...       ...             ...          ...   \n",
       "9995        7672686    Coffee       2.0        2.000000          4.0   \n",
       "9996        9659401    Coffee       3.0        2.947184          3.0   \n",
       "9997        5255387    Coffee       4.0        2.000000          8.0   \n",
       "9998        7695629    Cookie       3.0        2.947184          3.0   \n",
       "9999        6170729  Sandwich       3.0        4.000000         12.0   \n",
       "\n",
       "           Location Transaction Date  del  \n",
       "0          Takeaway       2023-09-08  TXN  \n",
       "1          In-store       2023-05-16  TXN  \n",
       "3     not specified       2023-04-27  TXN  \n",
       "4          In-store       2023-06-11  TXN  \n",
       "5     not specified       2023-03-31  TXN  \n",
       "...             ...              ...  ...  \n",
       "9995  not specified       2023-08-30  TXN  \n",
       "9996  not specified       2023-06-02  TXN  \n",
       "9997  not specified       2023-03-02  TXN  \n",
       "9998  not specified       2023-12-02  TXN  \n",
       "9999       In-store       2023-11-07  TXN  \n",
       "\n",
       "[9064 rows x 8 columns]"
      ]
     },
     "execution_count": 151,
     "metadata": {},
     "output_type": "execute_result"
    }
   ],
   "source": [
    "cafe"
   ]
  },
  {
   "cell_type": "code",
   "execution_count": 153,
   "id": "35cc4618-4bb0-496d-88be-4b9dbb99fdea",
   "metadata": {},
   "outputs": [],
   "source": [
    "cafe = cafe[(cafe['Transaction Date']>='2023-01-01') & (cafe['Transaction Date']<='2023-06-30')]"
   ]
  },
  {
   "cell_type": "code",
   "execution_count": 154,
   "id": "44d77240-6c83-4748-97a0-3d4b15028472",
   "metadata": {},
   "outputs": [
    {
     "name": "stderr",
     "output_type": "stream",
     "text": [
      "C:\\Users\\Admin\\AppData\\Local\\Temp\\ipykernel_1164\\2373889362.py:1: SettingWithCopyWarning: \n",
      "A value is trying to be set on a copy of a slice from a DataFrame.\n",
      "Try using .loc[row_indexer,col_indexer] = value instead\n",
      "\n",
      "See the caveats in the documentation: https://pandas.pydata.org/pandas-docs/stable/user_guide/indexing.html#returning-a-view-versus-a-copy\n",
      "  cafe['Transaction Date'] = cafe['Transaction Date'].dt.strftime('%d/%m/%Y')\n"
     ]
    }
   ],
   "source": [
    "cafe['Transaction Date'] = cafe['Transaction Date'].dt.strftime('%d/%m/%Y')"
   ]
  },
  {
   "cell_type": "code",
   "execution_count": 155,
   "id": "81bb7957-34bb-4e9f-8a00-320311a06327",
   "metadata": {},
   "outputs": [
    {
     "data": {
      "text/html": [
       "<div>\n",
       "<style scoped>\n",
       "    .dataframe tbody tr th:only-of-type {\n",
       "        vertical-align: middle;\n",
       "    }\n",
       "\n",
       "    .dataframe tbody tr th {\n",
       "        vertical-align: top;\n",
       "    }\n",
       "\n",
       "    .dataframe thead th {\n",
       "        text-align: right;\n",
       "    }\n",
       "</style>\n",
       "<table border=\"1\" class=\"dataframe\">\n",
       "  <thead>\n",
       "    <tr style=\"text-align: right;\">\n",
       "      <th></th>\n",
       "      <th>Transaction ID</th>\n",
       "      <th>Item</th>\n",
       "      <th>Quantity</th>\n",
       "      <th>Price Per Unit</th>\n",
       "      <th>Total Spent</th>\n",
       "      <th>Location</th>\n",
       "      <th>Transaction Date</th>\n",
       "      <th>del</th>\n",
       "    </tr>\n",
       "  </thead>\n",
       "  <tbody>\n",
       "    <tr>\n",
       "      <th>1</th>\n",
       "      <td>4977031</td>\n",
       "      <td>Cake</td>\n",
       "      <td>4.0</td>\n",
       "      <td>3.000000</td>\n",
       "      <td>12.0</td>\n",
       "      <td>In-store</td>\n",
       "      <td>16/05/2023</td>\n",
       "      <td>TXN</td>\n",
       "    </tr>\n",
       "    <tr>\n",
       "      <th>3</th>\n",
       "      <td>7034554</td>\n",
       "      <td>Salad</td>\n",
       "      <td>2.0</td>\n",
       "      <td>5.000000</td>\n",
       "      <td>10.0</td>\n",
       "      <td>not specified</td>\n",
       "      <td>27/04/2023</td>\n",
       "      <td>TXN</td>\n",
       "    </tr>\n",
       "    <tr>\n",
       "      <th>4</th>\n",
       "      <td>3160411</td>\n",
       "      <td>Coffee</td>\n",
       "      <td>2.0</td>\n",
       "      <td>2.000000</td>\n",
       "      <td>4.0</td>\n",
       "      <td>In-store</td>\n",
       "      <td>11/06/2023</td>\n",
       "      <td>TXN</td>\n",
       "    </tr>\n",
       "    <tr>\n",
       "      <th>5</th>\n",
       "      <td>2602893</td>\n",
       "      <td>Smoothie</td>\n",
       "      <td>5.0</td>\n",
       "      <td>4.000000</td>\n",
       "      <td>20.0</td>\n",
       "      <td>not specified</td>\n",
       "      <td>31/03/2023</td>\n",
       "      <td>TXN</td>\n",
       "    </tr>\n",
       "    <tr>\n",
       "      <th>12</th>\n",
       "      <td>7619095</td>\n",
       "      <td>Sandwich</td>\n",
       "      <td>2.0</td>\n",
       "      <td>4.000000</td>\n",
       "      <td>8.0</td>\n",
       "      <td>In-store</td>\n",
       "      <td>03/05/2023</td>\n",
       "      <td>TXN</td>\n",
       "    </tr>\n",
       "    <tr>\n",
       "      <th>...</th>\n",
       "      <td>...</td>\n",
       "      <td>...</td>\n",
       "      <td>...</td>\n",
       "      <td>...</td>\n",
       "      <td>...</td>\n",
       "      <td>...</td>\n",
       "      <td>...</td>\n",
       "      <td>...</td>\n",
       "    </tr>\n",
       "    <tr>\n",
       "      <th>9990</th>\n",
       "      <td>1538510</td>\n",
       "      <td>Coffee</td>\n",
       "      <td>5.0</td>\n",
       "      <td>2.000000</td>\n",
       "      <td>10.0</td>\n",
       "      <td>not specified</td>\n",
       "      <td>22/05/2023</td>\n",
       "      <td>TXN</td>\n",
       "    </tr>\n",
       "    <tr>\n",
       "      <th>9991</th>\n",
       "      <td>3897619</td>\n",
       "      <td>Sandwich</td>\n",
       "      <td>3.0</td>\n",
       "      <td>4.000000</td>\n",
       "      <td>12.0</td>\n",
       "      <td>Takeaway</td>\n",
       "      <td>24/02/2023</td>\n",
       "      <td>TXN</td>\n",
       "    </tr>\n",
       "    <tr>\n",
       "      <th>9994</th>\n",
       "      <td>7851634</td>\n",
       "      <td></td>\n",
       "      <td>4.0</td>\n",
       "      <td>4.000000</td>\n",
       "      <td>16.0</td>\n",
       "      <td>not specified</td>\n",
       "      <td>08/01/2023</td>\n",
       "      <td>TXN</td>\n",
       "    </tr>\n",
       "    <tr>\n",
       "      <th>9996</th>\n",
       "      <td>9659401</td>\n",
       "      <td>Coffee</td>\n",
       "      <td>3.0</td>\n",
       "      <td>2.947184</td>\n",
       "      <td>3.0</td>\n",
       "      <td>not specified</td>\n",
       "      <td>02/06/2023</td>\n",
       "      <td>TXN</td>\n",
       "    </tr>\n",
       "    <tr>\n",
       "      <th>9997</th>\n",
       "      <td>5255387</td>\n",
       "      <td>Coffee</td>\n",
       "      <td>4.0</td>\n",
       "      <td>2.000000</td>\n",
       "      <td>8.0</td>\n",
       "      <td>not specified</td>\n",
       "      <td>02/03/2023</td>\n",
       "      <td>TXN</td>\n",
       "    </tr>\n",
       "  </tbody>\n",
       "</table>\n",
       "<p>4492 rows × 8 columns</p>\n",
       "</div>"
      ],
      "text/plain": [
       "     Transaction ID      Item  Quantity  Price Per Unit  Total Spent  \\\n",
       "1           4977031      Cake       4.0        3.000000         12.0   \n",
       "3           7034554     Salad       2.0        5.000000         10.0   \n",
       "4           3160411    Coffee       2.0        2.000000          4.0   \n",
       "5           2602893  Smoothie       5.0        4.000000         20.0   \n",
       "12          7619095  Sandwich       2.0        4.000000          8.0   \n",
       "...             ...       ...       ...             ...          ...   \n",
       "9990        1538510    Coffee       5.0        2.000000         10.0   \n",
       "9991        3897619  Sandwich       3.0        4.000000         12.0   \n",
       "9994        7851634                 4.0        4.000000         16.0   \n",
       "9996        9659401    Coffee       3.0        2.947184          3.0   \n",
       "9997        5255387    Coffee       4.0        2.000000          8.0   \n",
       "\n",
       "           Location Transaction Date  del  \n",
       "1          In-store       16/05/2023  TXN  \n",
       "3     not specified       27/04/2023  TXN  \n",
       "4          In-store       11/06/2023  TXN  \n",
       "5     not specified       31/03/2023  TXN  \n",
       "12         In-store       03/05/2023  TXN  \n",
       "...             ...              ...  ...  \n",
       "9990  not specified       22/05/2023  TXN  \n",
       "9991       Takeaway       24/02/2023  TXN  \n",
       "9994  not specified       08/01/2023  TXN  \n",
       "9996  not specified       02/06/2023  TXN  \n",
       "9997  not specified       02/03/2023  TXN  \n",
       "\n",
       "[4492 rows x 8 columns]"
      ]
     },
     "execution_count": 155,
     "metadata": {},
     "output_type": "execute_result"
    }
   ],
   "source": [
    "cafe"
   ]
  },
  {
   "cell_type": "code",
   "execution_count": 156,
   "id": "ccb96d5a-1161-40ae-9f36-669dd3c78087",
   "metadata": {},
   "outputs": [],
   "source": [
    "# cafe[(cafe['Transaction Date']>='2023-01-01') & (cafe['Transaction Date']<='2023-06-30')]"
   ]
  },
  {
   "cell_type": "code",
   "execution_count": 158,
   "id": "9562105a-b670-4eb0-b287-b81c4f11fdcb",
   "metadata": {},
   "outputs": [],
   "source": [
    "cafe.to_csv('cleandata1.csv')"
   ]
  },
  {
   "cell_type": "code",
   "execution_count": null,
   "id": "11d42f0e-f51c-402c-b127-510635bb9aa9",
   "metadata": {},
   "outputs": [],
   "source": []
  }
 ],
 "metadata": {
  "kernelspec": {
   "display_name": "Python 3 (ipykernel)",
   "language": "python",
   "name": "python3"
  },
  "language_info": {
   "codemirror_mode": {
    "name": "ipython",
    "version": 3
   },
   "file_extension": ".py",
   "mimetype": "text/x-python",
   "name": "python",
   "nbconvert_exporter": "python",
   "pygments_lexer": "ipython3",
   "version": "3.13.3"
  }
 },
 "nbformat": 4,
 "nbformat_minor": 5
}
